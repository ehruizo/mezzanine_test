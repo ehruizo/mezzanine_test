{
 "cells": [
  {
   "cell_type": "code",
   "execution_count": 1,
   "metadata": {
    "collapsed": true
   },
   "outputs": [],
   "source": [
    "import pickle\n",
    "import csv\n",
    "import numpy as np\n",
    "from sklearn.linear_model import LogisticRegression\n",
    "from sklearn.metrics import accuracy_score"
   ]
  },
  {
   "cell_type": "code",
   "execution_count": 3,
   "metadata": {
    "collapsed": true
   },
   "outputs": [],
   "source": [
    "def classifier(features, labels):\n",
    "    lr = LogisticRegression()\n",
    "    lr.fit(features, labels)\n",
    "    return lr"
   ]
  },
  {
   "cell_type": "code",
   "execution_count": 4,
   "metadata": {
    "collapsed": true
   },
   "outputs": [],
   "source": [
    "file = \"iris_data.csv\"\n",
    "with open(file) as f:\n",
    "    reader = csv.reader(f)\n",
    "    header = next(reader)\n",
    "    iris_data, iris_type = [], []\n",
    "    for row in reader:\n",
    "        iris_data.append(tuple([float(x) for x in row[:-1]]))\n",
    "        iris_type.append(row[-1])"
   ]
  },
  {
   "cell_type": "code",
   "execution_count": 5,
   "metadata": {},
   "outputs": [
    {
     "name": "stdout",
     "output_type": "stream",
     "text": [
      "['sepal_length', 'sepal_width', 'petal_length', 'petal_width', 'type']\n",
      "[(5.1, 3.5, 1.4, 0.2), (4.9, 3.0, 1.4, 0.2), (4.7, 3.2, 1.3, 0.2), (4.6, 3.1, 1.5, 0.2), (5.0, 3.6, 1.4, 0.2)]\n",
      "['setosa', 'setosa', 'setosa', 'setosa', 'setosa']\n"
     ]
    }
   ],
   "source": [
    "print(header)\n",
    "print(iris_data[:5])\n",
    "print(iris_type[:5])"
   ]
  },
  {
   "cell_type": "code",
   "execution_count": 7,
   "metadata": {},
   "outputs": [
    {
     "data": {
      "text/plain": [
       "array([[ 5.1,  3.5,  1.4,  0.2],\n",
       "       [ 4.9,  3. ,  1.4,  0.2],\n",
       "       [ 4.7,  3.2,  1.3,  0.2]])"
      ]
     },
     "execution_count": 7,
     "metadata": {},
     "output_type": "execute_result"
    }
   ],
   "source": [
    "# esta transformación no es necesaria, pero quizá es más eficiente\n",
    "iris_array = np.array(iris_data)\n",
    "iris_array[:3]"
   ]
  },
  {
   "cell_type": "code",
   "execution_count": 8,
   "metadata": {
    "collapsed": true
   },
   "outputs": [],
   "source": [
    "lr_model = classifier(iris_array, iris_type)"
   ]
  },
  {
   "cell_type": "code",
   "execution_count": 10,
   "metadata": {},
   "outputs": [
    {
     "name": "stdout",
     "output_type": "stream",
     "text": [
      "0.96\n"
     ]
    }
   ],
   "source": [
    "# accuracy in training set\n",
    "pred = lr_model.predict(iris_array)\n",
    "accuracy = accuracy_score(y_true=iris_type, y_pred=pred)\n",
    "print(accuracy)"
   ]
  },
  {
   "cell_type": "code",
   "execution_count": 11,
   "metadata": {
    "collapsed": true
   },
   "outputs": [],
   "source": [
    "# test\n",
    "def scorer(data, model=lr_model):\n",
    "    try:\n",
    "        # ['sepal_length', 'sepal_width', 'petal_length', 'petal_width']\n",
    "        sepal_length, sepal_width = float(data['sepal_length']), float(data['sepal_width'])\n",
    "        petal_length, petal_width = float(data['petal_length']), float(data['petal_width'])\n",
    "        data_p = [[sepal_length, sepal_width, petal_length, petal_width]]\n",
    "        pred = model.predict(data_p)[0]\n",
    "        ppred = round(max(model.predict_proba(data_p)[0]), 4)\n",
    "        return {'probability': ppred, 'class': pred, 'message': 'success'}\n",
    "    except:\n",
    "        return {'probability': None, 'class': None, 'message': 'there was an error'}"
   ]
  },
  {
   "cell_type": "code",
   "execution_count": 12,
   "metadata": {},
   "outputs": [
    {
     "name": "stdout",
     "output_type": "stream",
     "text": [
      "{'message': 'success', 'probability': 0.79969999999999997, 'class': 'setosa'}\n"
     ]
    }
   ],
   "source": [
    "test_data = {'sepal_length': 4.9, 'sepal_width': 3, 'petal_length': 1.4, 'petal_width': 0.2}\n",
    "print(scorer(test_data))"
   ]
  },
  {
   "cell_type": "code",
   "execution_count": 13,
   "metadata": {
    "collapsed": true
   },
   "outputs": [],
   "source": [
    "# serializar modelo y otros objetos necesarios para pronosticar\n",
    "with open(\"scorer.pkl\", \"wb\") as f:\n",
    "    pickle.dump(lr_model, f)"
   ]
  },
  {
   "cell_type": "code",
   "execution_count": null,
   "metadata": {
    "collapsed": true
   },
   "outputs": [],
   "source": []
  }
 ],
 "metadata": {
  "kernelspec": {
   "display_name": "Python 3",
   "language": "python",
   "name": "python3"
  },
  "language_info": {
   "codemirror_mode": {
    "name": "ipython",
    "version": 3
   },
   "file_extension": ".py",
   "mimetype": "text/x-python",
   "name": "python",
   "nbconvert_exporter": "python",
   "pygments_lexer": "ipython3",
   "version": "3.5.2"
  }
 },
 "nbformat": 4,
 "nbformat_minor": 2
}
